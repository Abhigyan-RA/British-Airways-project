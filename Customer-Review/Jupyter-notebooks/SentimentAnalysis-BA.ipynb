{
 "cells": [
  {
   "cell_type": "code",
   "execution_count": 29,
   "id": "62c9ab37-a89d-4d09-8bec-43cab8f96001",
   "metadata": {},
   "outputs": [],
   "source": [
    "import pandas as pd \n",
    "df=pd.read_csv('../DATA/BA_reviews.csv',index_col=0)"
   ]
  },
  {
   "cell_type": "code",
   "execution_count": null,
   "id": "6b35d70a-581c-4aca-82b7-3d9d0c4d4cff",
   "metadata": {},
   "outputs": [],
   "source": [
    "!pip install nltk\n",
    "!pip install nltk==3.8\n",
    "!pip install vaderSentiment\n"
   ]
  },
  {
   "cell_type": "code",
   "execution_count": 31,
   "id": "c9037f40-fe95-446e-a9bf-8653ce7b889a",
   "metadata": {},
   "outputs": [],
   "source": [
    "import nltk\n",
    "from nltk.sentiment.vader import SentimentIntensityAnalyzer \n",
    "\n",
    "\n",
    "sia = SentimentIntensityAnalyzer()\n",
    "\n",
    "# classifying sentiment scores in negative,positive based on text review and recommended column\n",
    "def get_sentiment(row):\n",
    "    sentiment_score = sia.polarity_scores(row['Text Review'])['compound']\n",
    "    if sentiment_score >= 0 and row['Recommended'] == 'yes':\n",
    "        return 'Positive'\n",
    "    elif sentiment_score <= 0 or row['Recommended'] == 'no':\n",
    "        return 'Negative'\n",
    "    elif row['Recommended'=='yes']:\n",
    "        return 'Positive'\n",
    "\n",
    "\n",
    "df['Sentiment'] = df.apply(get_sentiment, axis=1)\n"
   ]
  },
  {
   "cell_type": "code",
   "execution_count": null,
   "id": "fc932fe2-c678-4860-ad69-5eba52ad4cf2",
   "metadata": {},
   "outputs": [],
   "source": [
    "\n",
    "df.head(20)"
   ]
  },
  {
   "cell_type": "code",
   "execution_count": 33,
   "id": "e52c4238-2b2e-433f-939d-92051ee7be43",
   "metadata": {},
   "outputs": [],
   "source": [
    "df.to_csv('../DATA/BA_reviews.csv')\n"
   ]
  },
  {
   "cell_type": "code",
   "execution_count": null,
   "id": "8da613c4-842c-4b1d-8688-80fd86cbc594",
   "metadata": {},
   "outputs": [],
   "source": [
    "df.info()"
   ]
  },
  {
   "cell_type": "code",
   "execution_count": null,
   "id": "84757f1c-907c-4f68-842f-d35776707e43",
   "metadata": {},
   "outputs": [],
   "source": []
  }
 ],
 "metadata": {
  "kernelspec": {
   "display_name": "Python 3 (ipykernel)",
   "language": "python",
   "name": "python3"
  },
  "language_info": {
   "codemirror_mode": {
    "name": "ipython",
    "version": 3
   },
   "file_extension": ".py",
   "mimetype": "text/x-python",
   "name": "python",
   "nbconvert_exporter": "python",
   "pygments_lexer": "ipython3",
   "version": "3.11.5"
  }
 },
 "nbformat": 4,
 "nbformat_minor": 5
}
