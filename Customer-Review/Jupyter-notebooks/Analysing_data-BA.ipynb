{
 "cells": [
  {
   "cell_type": "code",
   "execution_count": 2,
   "id": "6d8cf671-6131-42f7-927e-4aa053619f38",
   "metadata": {},
   "outputs": [],
   "source": [
    "import pandas as pd\n",
    "df=pd.read_csv('../DATA/BA_reviews.csv',index_col=0)"
   ]
  },
  {
   "cell_type": "code",
   "execution_count": null,
   "id": "9c3ff0a5-8f4b-4518-baf4-dbac810bdd11",
   "metadata": {},
   "outputs": [],
   "source": [
    "df.head(20)\n"
   ]
  },
  {
   "cell_type": "code",
   "execution_count": null,
   "id": "aaa2420a-94a8-4fcc-a8c1-1e20bd542e96",
   "metadata": {},
   "outputs": [],
   "source": [
    "!pip install matplotlib"
   ]
  },
  {
   "cell_type": "code",
   "execution_count": null,
   "id": "17897728-2361-4802-91ca-df02a85a3c6d",
   "metadata": {},
   "outputs": [],
   "source": [
    "import matplotlib.pyplot as plt\n",
    "\n",
    "\n",
    "labels = ['Recommended (Yes)', 'Not Recommended (No)']\n",
    "sizes = df['Recommended'].value_counts()\n",
    "\n",
    "\n",
    "if 'no' in sizes.index and 'yes' in sizes.index:\n",
    "    labels = ['Not Recommended (No)', 'Recommended (Yes)']\n",
    "\n",
    "plt.pie(sizes, labels=labels, autopct='%1.1f%%', startangle=90, colors=['lightcoral', 'lightgreen'])\n",
    "plt.title('Proportion of Recommended vs. Not Recommended Reviews')\n",
    "plt.savefig('../Visualization/recommendation_pie_chart.jpg', bbox_inches='tight', dpi=720)\n",
    "plt.show()\n"
   ]
  },
  {
   "cell_type": "code",
   "execution_count": null,
   "id": "d65bf9a2-1771-4bc0-91f9-57d58acbab07",
   "metadata": {},
   "outputs": [],
   "source": [
    "import matplotlib.pyplot as plt\n",
    "\n",
    "sentiment_labels = [\"Positive\", \"Negative\"]\n",
    "sizes = df['Sentiment'].value_counts()\n",
    "\n",
    "\n",
    "if 'Negative' in sizes.index and 'Positive' in sizes.index:\n",
    "    sentiment_labels = ['Negative', 'Positive']\n",
    "\n",
    "plt.pie(sizes, labels=sentiment_labels, autopct='%1.1f%%', startangle=90, colors=['red', 'green'])\n",
    "plt.title('Positive Reviews vs. Negative Reviews')\n",
    "plt.savefig('../Visualization/positive_vs_negative_pie_chart.jpg', bbox_inches='tight', dpi=720)\n",
    "plt.show()\n"
   ]
  },
  {
   "cell_type": "code",
   "execution_count": null,
   "id": "a9a3eea5-846a-40b2-b35e-6605ca9c17e8",
   "metadata": {},
   "outputs": [],
   "source": [
    "print( df['Seat Type'].value_counts())\n",
    "print('-------------------------------------------------')\n",
    "print( df['Recommended'].value_counts())"
   ]
  },
  {
   "cell_type": "code",
   "execution_count": null,
   "id": "42cc7c2c-2436-4796-84d2-c8bb30f53d4c",
   "metadata": {},
   "outputs": [],
   "source": [
    "import seaborn as sns\n",
    "df = df[df['Seat Type'] != '0']\n",
    "contingency_table = pd.crosstab(df['Seat Type'], df['Recommended'], margins=True, margins_name='Total')\n",
    "\n",
    "# Calculating the percentage of 'Yes' and 'No' for each seat type in the df\n",
    "contingency_table_percentage = contingency_table.div(contingency_table['Total'], axis=0) * 100\n",
    "\n",
    "# Heatmap\n",
    "plt.figure(figsize=(10, 6))\n",
    "sns.heatmap(contingency_table_percentage[['no', 'yes']], annot=True, cmap=\"YlGnBu\", fmt=\".1f\", linewidths=.5, cbar_kws={'label': 'Percentage'})\n",
    "plt.title('Percentage of Yes and No Recommendations for Each Seat Type')\n",
    "plt.xlabel('Recommended')\n",
    "plt.ylabel('Seat Type')\n",
    "plt.savefig('../Visualization/seattype_VS_recommendation.jpg',bbox_inches='tight',dpi=720)\n",
    "plt.show()"
   ]
  },
  {
   "cell_type": "code",
   "execution_count": null,
   "id": "ffdac320-ca30-4b69-9f6d-732bfe09f903",
   "metadata": {},
   "outputs": [],
   "source": [
    "\n",
    "average_ratings = df[['Seat Comfort Rating', 'Cabin Staff Service Rating', 'Food Beverages Rating',\n",
    "                      'Inflight Entertainment Rating', 'Ground Service Rating', 'Value for Money Rating']].mean()\n",
    "\n",
    "\n",
    "plt.figure(figsize=(18, 8))\n",
    "sns.barplot(x=average_ratings.index, y=average_ratings.values) \n",
    "plt.title('Average Ratings for Different Categories', fontsize=16)\n",
    "plt.ylim(0, 5)  \n",
    "plt.ylabel('Average Rating', fontsize=14)\n",
    "plt.xlabel('Rating Category', fontsize=1)\n",
    "plt.xticks(fontsize=12)\n",
    "plt.yticks(fontsize=12)\n",
    "plt.savefig('../Visualization/MeanRating.jpg', bbox_inches='tight', dpi=720)\n",
    "plt.show()\n"
   ]
  },
  {
   "cell_type": "code",
   "execution_count": null,
   "id": "b8039582-5d48-4f6e-a142-47bbcb15289a",
   "metadata": {},
   "outputs": [],
   "source": [
    "rating_columns = ['Seat Comfort Rating', 'Cabin Staff Service Rating', 'Food Beverages Rating',\n",
    "                   'Inflight Entertainment Rating', 'Ground Service Rating', 'Value for Money Rating']\n",
    "percentage_df = pd.DataFrame()\n",
    "\n",
    "for col in rating_columns:\n",
    "    rating_counts = df.groupby(col)['Recommended'].value_counts(normalize=True).unstack()\n",
    "    percentage_df[col] = rating_counts['yes'] * 100\n",
    "\n",
    "#heatmap\n",
    "plt.figure(figsize=(12, 8))\n",
    "sns.heatmap(percentage_df.T, annot=True, cmap=\"YlGnBu\", fmt=\".1f\", linewidths=.5, cbar_kws={'label': 'Percentage'})\n",
    "plt.title('Percentage of Yes Recommendations for Each Rating Category', fontsize=16)\n",
    "plt.xlabel('Rating Category', fontsize=14)\n",
    "plt.ylabel('Percentage of Yes Recommendations', fontsize=14)\n",
    "plt.xticks(fontsize=12)\n",
    "plt.yticks(fontsize=12)\n",
    "plt.savefig('../Visualization/Rating_Vs_Yes-recommendations.jpg', bbox_inches='tight', dpi=720)\n",
    "plt.show()"
   ]
  },
  {
   "cell_type": "code",
   "execution_count": null,
   "id": "3df29399-85e0-49d0-b7a1-dc53208ec9be",
   "metadata": {},
   "outputs": [],
   "source": []
  }
 ],
 "metadata": {
  "kernelspec": {
   "display_name": "Python 3 (ipykernel)",
   "language": "python",
   "name": "python3"
  },
  "language_info": {
   "codemirror_mode": {
    "name": "ipython",
    "version": 3
   },
   "file_extension": ".py",
   "mimetype": "text/x-python",
   "name": "python",
   "nbconvert_exporter": "python",
   "pygments_lexer": "ipython3",
   "version": "3.11.5"
  }
 },
 "nbformat": 4,
 "nbformat_minor": 5
}
