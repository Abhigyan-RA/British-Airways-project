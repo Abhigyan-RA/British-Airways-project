{
 "cells": [
  {
   "cell_type": "code",
   "execution_count": null,
   "id": "4180801d-fcf6-4fb6-8282-4aa1f373cac6",
   "metadata": {},
   "outputs": [],
   "source": [
    "import requests \n",
    "!pip install bs4\n",
    "!pip install html5lib\n",
    "from bs4 import BeautifulSoup\n"
   ]
  },
  {
   "cell_type": "code",
   "execution_count": null,
   "id": "24d48472-0521-4e54-a0cf-006feca7f130",
   "metadata": {},
   "outputs": [],
   "source": [
    "text_reviews = []\n",
    "type_of_traveler = []\n",
    "aircraft = []\n",
    "seat_type = []\n",
    "seat_comfort_rating = []\n",
    "cabin_staff_service_rating = []\n",
    "food_and_beverages_rating = []\n",
    "inflight_entertainment_rating = []\n",
    "ground_service_rating = []\n",
    "value_for_money_rating = []\n",
    "recommended = []\n",
    "\n",
    "for i in range(1, 375):\n",
    "    url = f\"https://www.airlinequality.com/airline-reviews/british-airways/page/{i}/?sortby=post_date%3ADesc&pagesize=10\"\n",
    "    response = requests.get(url)\n",
    "    html = response.content\n",
    "    soup = BeautifulSoup(html, 'html5lib')\n",
    "    for para in soup.find_all(\"div\", {\"class\": \"text_content\"}):\n",
    "        text_reviews.append(para.get_text())\n",
    "  \n",
    "    for review_stats_elem in soup.find_all(\"div\", {\"class\": \"review-stats\"}):\n",
    "       \n",
    "        \n",
    "         \n",
    "        if review_stats_elem:\n",
    "            # Info about the passengers and fleet\n",
    "            type_of_traveler.append(review_stats_elem.find(\"td\", {\"class\": \"type_of_traveller\"}).find_next(\"td\", {\"class\": \"review-value\"}).text if review_stats_elem.find(\"td\", {\"class\": \"type_of_traveller\"}) else None)\n",
    "            aircraft.append(review_stats_elem.find(\"td\", {\"class\": \"aircraft\"}).find_next(\"td\", {\"class\": \"review-value\"}).text if review_stats_elem.find(\"td\", {\"class\": \"aircraft\"}) else None)\n",
    "            seat_type.append(review_stats_elem.find(\"td\", {\"class\": \"cabin_flown\"}).find_next(\"td\", {\"class\": \"review-value\"}).text if review_stats_elem.find(\"td\", {\"class\": \"cabin_flown\"}) else None)\n",
    "            print(\"working here\")\n",
    "            \n",
    "            # rating given by passengers in 6 different categories out of 5 \n",
    "            for rating_category in [\"seat_comfort\", \"cabin_staff_service\", \"food_and_beverages\", \"inflight_entertainment\", \"ground_service\", \"value_for_money\"]:\n",
    "                rating_elem = review_stats_elem.find(\"td\", {\"class\": rating_category})\n",
    "                if rating_elem:\n",
    "                    rating_stars_elem = rating_elem.find_next(\"td\", {\"class\": \"review-rating-stars\"})\n",
    "                    if rating_stars_elem:\n",
    "                        rating_stars = rating_stars_elem.find_all(\"span\", {\"class\": \"star fill\"})\n",
    "                        rating_value = len(rating_stars)\n",
    "                        print(\"working here\")\n",
    "                        globals()[f\"{rating_category}_rating\"].append(rating_value)\n",
    "                    else:\n",
    "                        print(\"error\")\n",
    "                        globals()[f\"{rating_category}_rating\"].append(0)\n",
    "                else:\n",
    "                    print(\"error2\")\n",
    "                    globals()[f\"{rating_category}_rating\"].append(0)\n",
    "\n",
    " \n",
    "            # extracting recommendation in yes or no \n",
    "            recommended_elem = review_stats_elem.find(\"td\", {\"class\": \"recommended\"})\n",
    "            next_elem = recommended_elem.find_next(\"td\", {\"class\": \"review-value\"})\n",
    "\n",
    "            if next_elem:\n",
    "               recommended_value = next_elem.text.strip().lower()\n",
    "               if recommended_value == \"yes\":\n",
    "                recommended.append(\"yes\")\n",
    "               elif recommended_value == \"no\":\n",
    "                recommended.append(\"no\")\n",
    "               else:\n",
    "                recommended.append(\"NONE\") \n",
    "            else:\n",
    "               recommended.append(\"NONE\")  \n",
    "\n",
    "        print(f\"Processed {len(text_reviews)} reviews\")\n",
    "\n",
    "print(f\"Total scraped reviews: {len(text_reviews)}\")\n",
    "\n"
   ]
  },
  {
   "cell_type": "code",
   "execution_count": null,
   "id": "a0b458ec-54c4-46ea-b96e-1fe111559d50",
   "metadata": {},
   "outputs": [],
   "source": [
    "import pandas as pd\n",
    "#making data frame\n",
    "\n",
    "data = {\n",
    "    'Text Review': text_reviews,\n",
    "    'Type of Traveler': type_of_traveler,\n",
    "    'Aircraft': aircraft,\n",
    "    'Seat Type': seat_type,\n",
    "    'Seat Comfort Rating': seat_comfort_rating,\n",
    "    'Cabin Staff Service Rating': cabin_staff_service_rating,\n",
    "    'Food Beverages Rating': food_and_beverages_rating,\n",
    "    'Inflight Entertainment Rating': inflight_entertainment_rating,\n",
    "    'Ground Service Rating': ground_service_rating,\n",
    "    'Value for Money Rating': value_for_money_rating,\n",
    "    'Recommended': recommended\n",
    "}\n",
    "\n",
    "df = pd.DataFrame(data)\n",
    "df.head(30)\n",
    "\n"
   ]
  },
  {
   "cell_type": "code",
   "execution_count": null,
   "id": "4a8ada35-13e9-491b-9af1-503270559d81",
   "metadata": {},
   "outputs": [],
   "source": [
    "df.info()"
   ]
  },
  {
   "cell_type": "code",
   "execution_count": null,
   "id": "84d3876a-55a3-411a-a07e-4d03de66ad2f",
   "metadata": {},
   "outputs": [],
   "source": [
    "df= df.fillna(0)\n",
    "df.info()\n",
    "df['Text Review']=df['Text Review'].str.replace('✅ Trip Verified |','').str.replace('Not Verified | ','')\n",
    "df.head()"
   ]
  },
  {
   "cell_type": "code",
   "execution_count": 8,
   "id": "b0664a4b-c52d-4432-9fb9-912dad473552",
   "metadata": {},
   "outputs": [],
   "source": [
    "df.to_csv('../DATA/BA_reviews.csv')\n"
   ]
  },
  {
   "cell_type": "code",
   "execution_count": null,
   "id": "c02a3f16",
   "metadata": {},
   "outputs": [],
   "source": []
  }
 ],
 "metadata": {
  "kernelspec": {
   "display_name": "Python 3 (ipykernel)",
   "language": "python",
   "name": "python3"
  },
  "language_info": {
   "codemirror_mode": {
    "name": "ipython",
    "version": 3
   },
   "file_extension": ".py",
   "mimetype": "text/x-python",
   "name": "python",
   "nbconvert_exporter": "python",
   "pygments_lexer": "ipython3",
   "version": "3.11.5"
  }
 },
 "nbformat": 4,
 "nbformat_minor": 5
}
