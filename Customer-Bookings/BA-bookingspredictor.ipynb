{
 "cells": [
  {
   "cell_type": "code",
   "execution_count": 2,
   "id": "6c63e789-519c-47ae-89e3-841398c409d5",
   "metadata": {},
   "outputs": [],
   "source": [
    "import pandas as pd"
   ]
  },
  {
   "cell_type": "code",
   "execution_count": null,
   "id": "a87db132-3969-45c3-9180-1a3be2a31d4c",
   "metadata": {},
   "outputs": [],
   "source": [
    "df = pd.read_csv(\"./DATA/customer_booking.csv\", encoding=\"ISO-8859-1\")\n",
    "df.head(30)"
   ]
  },
  {
   "cell_type": "code",
   "execution_count": null,
   "id": "6af4ac6a-96dc-4fe8-a8c9-02c315bae847",
   "metadata": {},
   "outputs": [],
   "source": [
    "df.info()\n",
    "\n",
    "\n"
   ]
  },
  {
   "cell_type": "markdown",
   "id": "1721598e-6664-4598-a9ae-5780ef4e0110",
   "metadata": {
    "jp-MarkdownHeadingCollapsed": true
   },
   "source": [
    "<i>Information about the columns</i>\n",
    "- `num_passengers` = number of passengers travelling\n",
    "- `sales_channel` = sales channel booking was made on\n",
    "\n",
    "- \n",
    "- `trip_type` = trip Type (Round Trip, One Way, Circle Trip)\n",
    "- `purchase_lead` = number of days between travel date and booking date\n",
    "- `length_of_stay` = number of days spent at destination\n",
    "- `flight_hour` = hour of flight departure\n",
    "- `flight_day` = day of week of flight departure\n",
    "- `route` = origin -> destination flight route\n",
    "- `booking_origin` = country from where booking was made\n",
    "- `wants_extra_baggage` = if the customer wanted extra baggage in the booking\n",
    "- `wants_preferred_seat` = if the customer wanted a preferred seat in the booking\n",
    "- `wants_in_flight_meals` = if the customer wanted in-flight meals in the booking\n",
    "- `flight_duration` = total duration of flight (in hours)\n",
    "- `booking_complete` = flag indicating if the customer completed the booking"
   ]
  },
  {
   "cell_type": "code",
   "execution_count": null,
   "id": "4f0089d5-9fa7-464e-b923-15fb6b058bff",
   "metadata": {},
   "outputs": [],
   "source": [
    "df.describe(include='all')"
   ]
  },
  {
   "cell_type": "code",
   "execution_count": null,
   "id": "92494b83-1832-4d68-85fb-de76ec55c89e",
   "metadata": {},
   "outputs": [],
   "source": [
    "df['flight_day'].unique()"
   ]
  },
  {
   "cell_type": "code",
   "execution_count": 7,
   "id": "5489901a-2a37-49ee-b77d-f20066efffc1",
   "metadata": {},
   "outputs": [],
   "source": [
    "days = {\n",
    "    'Mon':1,\n",
    "    'Tue':2,\n",
    "    'Wed':3,\n",
    "    'Thu':4,\n",
    "    'Fri':5,\n",
    "    'Sat':6,\n",
    "    'Sun':7,\n",
    "}"
   ]
  },
  {
   "cell_type": "code",
   "execution_count": 8,
   "id": "6167ce8a-8c2e-4717-9a32-b6a152d76916",
   "metadata": {},
   "outputs": [],
   "source": [
    "df[\"flight_day\"] = df[\"flight_day\"].map(days)"
   ]
  },
  {
   "cell_type": "code",
   "execution_count": null,
   "id": "2962da8d-84a7-4344-bdcf-39fdbba9d823",
   "metadata": {},
   "outputs": [],
   "source": [
    "df['flight_day'].unique()"
   ]
  },
  {
   "cell_type": "code",
   "execution_count": null,
   "id": "65fe1101-4241-4680-8afc-aee51031b7bf",
   "metadata": {},
   "outputs": [],
   "source": [
    "df.describe()\n"
   ]
  },
  {
   "cell_type": "code",
   "execution_count": null,
   "id": "3d0f42e9-a85a-4fed-9358-40492770ef48",
   "metadata": {},
   "outputs": [],
   "source": [
    "df.head(40)"
   ]
  },
  {
   "cell_type": "code",
   "execution_count": null,
   "id": "3c2cfdc4-a783-4bb0-88af-ca45aaacb333",
   "metadata": {},
   "outputs": [],
   "source": [
    "df['sales_channel'].value_counts()\n"
   ]
  },
  {
   "cell_type": "code",
   "execution_count": null,
   "id": "0a2471ae-0e95-49f2-91c3-874932a9c76c",
   "metadata": {},
   "outputs": [],
   "source": [
    "df = pd.get_dummies(df, columns=['sales_channel'])\n",
    "\n",
    "\n",
    "df.head(30)"
   ]
  },
  {
   "cell_type": "code",
   "execution_count": null,
   "id": "5f061cb5-4696-4824-87ae-6cc34badb512",
   "metadata": {},
   "outputs": [],
   "source": [
    "import seaborn as sns \n",
    "sns.regplot(x='purchase_lead',y='booking_complete',data=df)"
   ]
  },
  {
   "cell_type": "code",
   "execution_count": null,
   "id": "72542790-ce4f-4b17-8928-3b12b4bad544",
   "metadata": {},
   "outputs": [],
   "source": [
    "sns.regplot(x='wants_extra_baggage',y='booking_complete',data=df)"
   ]
  },
  {
   "cell_type": "code",
   "execution_count": null,
   "id": "5949232a-0714-4297-b554-a52229a9560b",
   "metadata": {},
   "outputs": [],
   "source": [
    "sns.regplot(x='wants_preferred_seat',y='booking_complete',data=df)"
   ]
  },
  {
   "cell_type": "code",
   "execution_count": null,
   "id": "ae257ce5-0899-4521-b80c-a748ecb68ef8",
   "metadata": {},
   "outputs": [],
   "source": [
    "sns.regplot(x='flight_hour',y='booking_complete',data=df)"
   ]
  },
  {
   "cell_type": "code",
   "execution_count": null,
   "id": "fc652349-4cb2-41b1-9bae-6685b548120a",
   "metadata": {},
   "outputs": [],
   "source": [
    "sns.regplot(x='flight_day',y='booking_complete',data=df)"
   ]
  },
  {
   "cell_type": "code",
   "execution_count": null,
   "id": "ac3fc06c-2739-4e16-b762-04d8e871177c",
   "metadata": {},
   "outputs": [],
   "source": [
    "sns.regplot(x='flight_duration',y='booking_complete',data=df)\n"
   ]
  },
  {
   "cell_type": "code",
   "execution_count": null,
   "id": "d48a85ea-c100-42f4-9efb-778cd2b86e9a",
   "metadata": {},
   "outputs": [],
   "source": [
    "sns.regplot(x='sales_channel_Mobile',y='booking_complete',data=df)"
   ]
  },
  {
   "cell_type": "code",
   "execution_count": null,
   "id": "d2f6db31-f159-4e90-b809-697dba38cca3",
   "metadata": {},
   "outputs": [],
   "source": [
    "sns.regplot(x='length_of_stay',y='booking_complete',data=df)"
   ]
  },
  {
   "cell_type": "code",
   "execution_count": null,
   "id": "7b4645f0-ee39-4a00-b474-56703f3e339e",
   "metadata": {},
   "outputs": [],
   "source": [
    "sns.regplot(x='num_passengers',y='booking_complete',data=df)"
   ]
  },
  {
   "cell_type": "code",
   "execution_count": 23,
   "id": "fc8edd56-be77-4df1-bb1e-ab4890e438f6",
   "metadata": {},
   "outputs": [],
   "source": [
    "df = pd.get_dummies(df, columns=['trip_type'])"
   ]
  },
  {
   "cell_type": "code",
   "execution_count": null,
   "id": "081563e1-84a8-4df2-9f88-aa36a9ed1f0e",
   "metadata": {},
   "outputs": [],
   "source": [
    "df.head(30)"
   ]
  },
  {
   "cell_type": "code",
   "execution_count": null,
   "id": "5deafcba-b0ff-4b25-9f75-128e13f50ed8",
   "metadata": {},
   "outputs": [],
   "source": [
    "sns.regplot(x='trip_type_CircleTrip',y='booking_complete',data=df)"
   ]
  },
  {
   "cell_type": "code",
   "execution_count": null,
   "id": "342a8743-b36e-4373-b896-c073ea667708",
   "metadata": {},
   "outputs": [],
   "source": [
    "sns.regplot(x='trip_type_OneWay',y='booking_complete',data=df)"
   ]
  },
  {
   "cell_type": "code",
   "execution_count": null,
   "id": "1f19b712-26e1-4ae5-b4ad-c42f38ee005d",
   "metadata": {},
   "outputs": [],
   "source": [
    "sns.regplot(x='trip_type_RoundTrip',y='booking_complete',data=df)"
   ]
  },
  {
   "cell_type": "code",
   "execution_count": null,
   "id": "2d8c67d4-96d7-4472-a3f6-d7ab6f91afdd",
   "metadata": {},
   "outputs": [],
   "source": [
    "!pip install scikit-learn\n",
    "from sklearn.model_selection import train_test_split\n",
    "from sklearn.pipeline import make_pipeline\n",
    "from sklearn.preprocessing import PolynomialFeatures, StandardScaler\n",
    "from sklearn.linear_model import LinearRegression\n",
    "from sklearn.metrics import mean_squared_error,r2_score\n",
    "import matplotlib.pyplot as plt"
   ]
  },
  {
   "cell_type": "code",
   "execution_count": 29,
   "id": "a10e275d-0de2-4f6c-8682-f6b72c077bb2",
   "metadata": {},
   "outputs": [],
   "source": [
    "corr_columns = ['purchase_lead', 'length_of_stay', 'flight_day', 'wants_extra_baggage',\n",
    "                    'wants_preferred_seat', 'wants_in_flight_meals', 'flight_duration',\n",
    "                    'sales_channel_Internet', 'sales_channel_Mobile', 'trip_type_CircleTrip',\n",
    "                    'trip_type_OneWay', 'trip_type_RoundTrip', 'booking_complete']\n",
    "corr_df = df[corr_columns]\n",
    "\n",
    "correlation_matrix = corr_df.corr()"
   ]
  },
  {
   "cell_type": "code",
   "execution_count": null,
   "id": "77d8c853-3ba5-4510-bc4a-15e19f0f6b35",
   "metadata": {},
   "outputs": [],
   "source": [
    "plt.figure(figsize=(12, 10))\n",
    "sns.heatmap(correlation_matrix,cmap=\"coolwarm\", fmt=\".2f\")\n",
    "plt.title('Pearson Correlation Heatmap')\n",
    "plt.savefig('./DATA/Correlation_heatmap.jpg',bbox_inches='tight', dpi=720)\n",
    "plt.show()"
   ]
  },
  {
   "cell_type": "code",
   "execution_count": 31,
   "id": "dc88c42a-f2bd-418a-b673-29103ab2e1c4",
   "metadata": {},
   "outputs": [],
   "source": [
    "\n",
    "features = ['purchase_lead', 'length_of_stay', 'flight_day', 'wants_extra_baggage',\n",
    "                    'wants_preferred_seat', 'wants_in_flight_meals', 'flight_duration',\n",
    "                    'sales_channel_Internet', 'sales_channel_Mobile', 'trip_type_CircleTrip',\n",
    "                    'trip_type_OneWay', 'trip_type_RoundTrip']\n",
    "\n",
    "\n",
    "\n",
    "\n",
    "X_train, X_test, y_train, y_test = train_test_split(df[features], df['booking_complete'], test_size=0.2, random_state=42)\n",
    "\n",
    "\n",
    "degree = 3\n",
    "model = make_pipeline(PolynomialFeatures(degree), StandardScaler(), LinearRegression())\n",
    "\n",
    "\n",
    "model.fit(X_train, y_train)\n",
    "\n",
    "\n",
    "y_pred = model.predict(X_test)\n",
    "\n",
    "\n"
   ]
  },
  {
   "cell_type": "code",
   "execution_count": null,
   "id": "12b9bf6d-f20e-4c26-a641-e4338ed52aac",
   "metadata": {},
   "outputs": [],
   "source": [
    "# evaluating the model\n",
    "mse = mean_squared_error(y_test, y_pred)\n",
    "r_squared = r2_score(y_test, y_pred)\n",
    "\n",
    "\n",
    "print(f'Mean Squared Error: {mse}')\n",
    "print(f'R-squared: {r_squared}')"
   ]
  },
  {
   "cell_type": "code",
   "execution_count": null,
   "id": "a9fa7a9d-56ce-4947-81b8-a66554e4f82d",
   "metadata": {},
   "outputs": [],
   "source": [
    "import seaborn as sns\n",
    "import matplotlib.pyplot as plt\n",
    "\n",
    "\n",
    "sns.set(style=\"whitegrid\")\n",
    "plt.figure(figsize=(10, 6))\n",
    "\n",
    "\n",
    "sns.distplot(y_test, hist=False, color=\"blue\", label=\"Actual\")\n",
    "\n",
    "\n",
    "sns.distplot(y_pred, hist=False, color=\"red\", label=\"Predicted\")\n",
    "\n",
    "plt.title(\"Distribution Plot of Actual vs Predicted Values\")\n",
    "plt.xlabel(\"Booking Completion\")\n",
    "plt.ylabel(\"Density\")\n",
    "plt.legend()\n",
    "plt.savefig('./DATA/displot.jpg',bbox_inches='tight', dpi=720)\n",
    "plt.show()\n"
   ]
  },
  {
   "cell_type": "code",
   "execution_count": null,
   "id": "db646c8e-29ca-4675-be4f-147bd3339e0d",
   "metadata": {},
   "outputs": [],
   "source": []
  },
  {
   "cell_type": "code",
   "execution_count": null,
   "id": "6ac37694-00ae-4bf2-af5d-5c221c5b5898",
   "metadata": {},
   "outputs": [],
   "source": []
  }
 ],
 "metadata": {
  "kernelspec": {
   "display_name": "Python 3 (ipykernel)",
   "language": "python",
   "name": "python3"
  },
  "language_info": {
   "codemirror_mode": {
    "name": "ipython",
    "version": 3
   },
   "file_extension": ".py",
   "mimetype": "text/x-python",
   "name": "python",
   "nbconvert_exporter": "python",
   "pygments_lexer": "ipython3",
   "version": "3.11.5"
  }
 },
 "nbformat": 4,
 "nbformat_minor": 5
}
